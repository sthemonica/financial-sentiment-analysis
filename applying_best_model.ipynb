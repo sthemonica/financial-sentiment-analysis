{
 "cells": [
  {
   "cell_type": "code",
   "execution_count": 1,
   "metadata": {},
   "outputs": [],
   "source": [
    "import pandas as pd\n",
    "import numpy as np\n",
    "from sklearn.feature_extraction.text import TfidfVectorizer\n",
    "from nltk import tokenize\n",
    "import nltk\n",
    "from string import punctuation\n",
    "from sklearn.model_selection import train_test_split\n",
    "from imblearn.over_sampling import SMOTE\n",
    "from sklearn.ensemble import RandomForestClassifier\n",
    "import matplotlib.pyplot as plt\n",
    "import pickle"
   ]
  },
  {
   "cell_type": "code",
   "execution_count": 2,
   "metadata": {},
   "outputs": [],
   "source": [
    "stop_words = nltk.corpus.stopwords.words('english')\n",
    "token_space = tokenize.WhitespaceTokenizer()\n",
    "token_punct = tokenize.WordPunctTokenizer()\n",
    "\n",
    "def transformSentence(list_of_sentences):\n",
    "    \n",
    "    sentences_after_stopwords = list()\n",
    "    \n",
    "    for sentence in list_of_sentences:\n",
    "        new_sentence = list()\n",
    "        words_from_sentence = token_space.tokenize(sentence)\n",
    "        for word in words_from_sentence:\n",
    "            if word not in stop_words:\n",
    "                new_sentence.append(word)\n",
    "        sentences_after_stopwords.append(\" \".join(new_sentence))\n",
    "\n",
    "    sentences_after_stopwords_puncts = list()\n",
    "\n",
    "    for sentence in sentences_after_stopwords:\n",
    "        for punct_to_change in punctuation:\n",
    "            sentence = sentence.replace(punct_to_change,\"\")\n",
    "        sentences_after_stopwords_puncts.append(sentence)\n",
    "\n",
    "    sentences_after_stopwords_puncts_lower = list()\n",
    "\n",
    "    for sentence in sentences_after_stopwords_puncts:\n",
    "        sentence = sentence.lower()\n",
    "        sentences_after_stopwords_puncts_lower.append(sentence)\n",
    "\n",
    "    stop_words_no_accent = list()\n",
    "\n",
    "    for word in stop_words:\n",
    "        for punct_to_change in punctuation:\n",
    "            word = word.replace(punct_to_change,\"\")\n",
    "        stop_words_no_accent.append(word)\n",
    "    \n",
    "    sentences_after_stopwords_puncts_lower_stopwords = list()\n",
    "\n",
    "    for sentence in sentences_after_stopwords_puncts_lower:\n",
    "        new_sentence = list()\n",
    "        words_from_sentence = token_space.tokenize(sentence)\n",
    "        for word in words_from_sentence:\n",
    "            if word not in stop_words_no_accent:\n",
    "                new_sentence.append(word)\n",
    "        sentences_after_stopwords_puncts_lower_stopwords.append(\" \".join(new_sentence))\n",
    "\n",
    "    sentences_after_stopwords_puncts_lower_stopwords_number = list()\n",
    "\n",
    "    for sentence in sentences_after_stopwords_puncts_lower_stopwords:\n",
    "        new_sentence = list()\n",
    "        words_from_sentence = token_space.tokenize(sentence)\n",
    "        for word in words_from_sentence:\n",
    "            if not word.isnumeric():\n",
    "                new_sentence.append(word)\n",
    "            else:\n",
    "                new_sentence.append(\"0\")\n",
    "        sentences_after_stopwords_puncts_lower_stopwords_number.append(\" \".join(new_sentence))\n",
    "\n",
    "    return sentences_after_stopwords_puncts_lower_stopwords_number"
   ]
  },
  {
   "cell_type": "code",
   "execution_count": 3,
   "metadata": {},
   "outputs": [],
   "source": [
    "colnames=['output','text']\n",
    "df = pd.read_csv('all-data.csv', names=colnames, encoding = \"ISO-8859-1\", header=None)\n",
    "all_sentences = [text for text in df.text]\n",
    "words = ' '.join(all_sentences)\n",
    "\n",
    "treated_sentences = transformSentence(list(df.text))\n",
    "\n",
    "tfidf = TfidfVectorizer(lowercase=False,max_features=600)\n",
    "vector_tfidf = tfidf.fit_transform(treated_sentences)\n",
    "\n",
    "smote = SMOTE(random_state=100)\n",
    "X_resampled, Y_resampled = smote.fit_resample(vector_tfidf,df.output)\n",
    "\n",
    "test_size=0.1\n",
    "X_train,X_test,Y_train,Y_test = train_test_split(X_resampled,Y_resampled,random_state = 100,test_size=test_size)"
   ]
  },
  {
   "cell_type": "code",
   "execution_count": 4,
   "metadata": {},
   "outputs": [
    {
     "data": {
      "text/plain": [
       "0.8761574074074074"
      ]
     },
     "execution_count": 4,
     "metadata": {},
     "output_type": "execute_result"
    }
   ],
   "source": [
    "randomForest = RandomForestClassifier(n_estimators = 300,max_depth=None, min_samples_leaf = 1, max_features = 'log2', criterion = 'entropy', random_state = 100)\n",
    "randomForest.fit(X_train,Y_train)\n",
    "randomForest.score(X_test,Y_test)"
   ]
  },
  {
   "cell_type": "code",
   "execution_count": 5,
   "metadata": {},
   "outputs": [],
   "source": [
    "proba_results = pd.DataFrame(randomForest.predict_proba(X_test),columns=randomForest.classes_)\n",
    "proba_results['highest'] = proba_results[[\"negative\", \"neutral\", \"positive\"]].max(axis=1)\n",
    "proba_results['prediction'] = randomForest.predict(X_test)\n",
    "proba_results['answer'] = list(Y_test)\n"
   ]
  },
  {
   "cell_type": "code",
   "execution_count": 6,
   "metadata": {},
   "outputs": [],
   "source": [
    "proba_results['accuracy'] = np.where(proba_results['prediction']==proba_results['answer'], 1, 0)"
   ]
  },
  {
   "cell_type": "code",
   "execution_count": 7,
   "metadata": {},
   "outputs": [
    {
     "data": {
      "text/html": [
       "<div>\n",
       "<style scoped>\n",
       "    .dataframe tbody tr th:only-of-type {\n",
       "        vertical-align: middle;\n",
       "    }\n",
       "\n",
       "    .dataframe tbody tr th {\n",
       "        vertical-align: top;\n",
       "    }\n",
       "\n",
       "    .dataframe thead th {\n",
       "        text-align: right;\n",
       "    }\n",
       "</style>\n",
       "<table border=\"1\" class=\"dataframe\">\n",
       "  <thead>\n",
       "    <tr style=\"text-align: right;\">\n",
       "      <th></th>\n",
       "      <th>negative</th>\n",
       "      <th>neutral</th>\n",
       "      <th>positive</th>\n",
       "      <th>highest</th>\n",
       "      <th>prediction</th>\n",
       "      <th>answer</th>\n",
       "      <th>accuracy</th>\n",
       "    </tr>\n",
       "  </thead>\n",
       "  <tbody>\n",
       "    <tr>\n",
       "      <th>0</th>\n",
       "      <td>0.710000</td>\n",
       "      <td>0.130000</td>\n",
       "      <td>0.160000</td>\n",
       "      <td>0.710000</td>\n",
       "      <td>negative</td>\n",
       "      <td>negative</td>\n",
       "      <td>1</td>\n",
       "    </tr>\n",
       "    <tr>\n",
       "      <th>1</th>\n",
       "      <td>0.093333</td>\n",
       "      <td>0.026667</td>\n",
       "      <td>0.880000</td>\n",
       "      <td>0.880000</td>\n",
       "      <td>positive</td>\n",
       "      <td>positive</td>\n",
       "      <td>1</td>\n",
       "    </tr>\n",
       "    <tr>\n",
       "      <th>2</th>\n",
       "      <td>0.333711</td>\n",
       "      <td>0.255167</td>\n",
       "      <td>0.411122</td>\n",
       "      <td>0.411122</td>\n",
       "      <td>positive</td>\n",
       "      <td>neutral</td>\n",
       "      <td>0</td>\n",
       "    </tr>\n",
       "    <tr>\n",
       "      <th>3</th>\n",
       "      <td>0.020286</td>\n",
       "      <td>0.882524</td>\n",
       "      <td>0.097190</td>\n",
       "      <td>0.882524</td>\n",
       "      <td>neutral</td>\n",
       "      <td>neutral</td>\n",
       "      <td>1</td>\n",
       "    </tr>\n",
       "    <tr>\n",
       "      <th>4</th>\n",
       "      <td>0.010530</td>\n",
       "      <td>0.068890</td>\n",
       "      <td>0.920580</td>\n",
       "      <td>0.920580</td>\n",
       "      <td>positive</td>\n",
       "      <td>positive</td>\n",
       "      <td>1</td>\n",
       "    </tr>\n",
       "  </tbody>\n",
       "</table>\n",
       "</div>"
      ],
      "text/plain": [
       "   negative   neutral  positive   highest prediction    answer  accuracy\n",
       "0  0.710000  0.130000  0.160000  0.710000   negative  negative         1\n",
       "1  0.093333  0.026667  0.880000  0.880000   positive  positive         1\n",
       "2  0.333711  0.255167  0.411122  0.411122   positive   neutral         0\n",
       "3  0.020286  0.882524  0.097190  0.882524    neutral   neutral         1\n",
       "4  0.010530  0.068890  0.920580  0.920580   positive  positive         1"
      ]
     },
     "execution_count": 7,
     "metadata": {},
     "output_type": "execute_result"
    }
   ],
   "source": [
    "proba_results.head()"
   ]
  },
  {
   "cell_type": "code",
   "execution_count": 8,
   "metadata": {},
   "outputs": [
    {
     "name": "stdout",
     "output_type": "stream",
     "text": [
      "classifing 195 from 864\n",
      "precision: 0.9897435897435898\n"
     ]
    }
   ],
   "source": [
    "baseline_highest = 0.90\n",
    "\n",
    "query = ('highest >= {}').format(baseline_highest)\n",
    "proba_results_filtered = proba_results.query(query)\n",
    "print(\"classifing\",len(proba_results_filtered.accuracy),\"from\",len(proba_results.accuracy))\n",
    "print(\"precision:\",proba_results_filtered.accuracy.sum()/len(proba_results_filtered.accuracy))"
   ]
  },
  {
   "cell_type": "code",
   "execution_count": 9,
   "metadata": {},
   "outputs": [],
   "source": [
    "list_for_graph = []\n",
    "\n",
    "for baseline in [i/20 for i in np.arange(1,21)]:\n",
    "    query = ('highest >= {}').format(baseline)\n",
    "    proba_results_filtered = proba_results.query(query)\n",
    "    precision = proba_results_filtered.accuracy.sum()/len(proba_results_filtered.accuracy)\n",
    "    list_for_graph.append([baseline,precision])\n",
    "\n",
    "dataframe_for_graph = pd.DataFrame(list_for_graph,columns=['baseline','precision'])"
   ]
  },
  {
   "cell_type": "code",
   "execution_count": 10,
   "metadata": {},
   "outputs": [
    {
     "data": {
      "text/plain": [
       "[<matplotlib.lines.Line2D at 0x2c88e830e50>]"
      ]
     },
     "execution_count": 10,
     "metadata": {},
     "output_type": "execute_result"
    },
    {
     "data": {
      "image/png": "[encoded data removed]",
      "text/plain": [
       "<Figure size 432x288 with 1 Axes>"
      ]
     },
     "metadata": {
      "needs_background": "light"
     },
     "output_type": "display_data"
    }
   ],
   "source": [
    "plt.plot(dataframe_for_graph['baseline'],dataframe_for_graph['precision'])"
   ]
  },
  {
   "cell_type": "code",
   "execution_count": 11,
   "metadata": {},
   "outputs": [
    {
     "data": {
      "text/plain": [
       "RandomForestClassifier(criterion='entropy', max_features='log2',\n",
       "                       n_estimators=300, random_state=100)"
      ]
     },
     "execution_count": 11,
     "metadata": {},
     "output_type": "execute_result"
    }
   ],
   "source": [
    "randomForest = RandomForestClassifier(n_estimators = 300,max_depth=None, min_samples_leaf = 1, max_features = 'log2', criterion = 'entropy', random_state = 100)\n",
    "randomForest.fit(X_resampled,Y_resampled)"
   ]
  },
  {
   "cell_type": "code",
   "execution_count": 12,
   "metadata": {},
   "outputs": [],
   "source": [
    "output = open('financial-sentiment-model.sav','wb')\n",
    "pickle.dump(randomForest,output)\n",
    "output.close()"
   ]
  }
 ],
 "metadata": {
  "interpreter": {
   "hash": "051f523ea69bc1770ecd2306c10409abac68aa2062faba780e671356775dd235"
  },
  "kernelspec": {
   "display_name": "Python 3.8.8 ('base')",
   "language": "python",
   "name": "python3"
  },
  "language_info": {
   "codemirror_mode": {
    "name": "ipython",
    "version": 3
   },
   "file_extension": ".py",
   "mimetype": "text/x-python",
   "name": "python",
   "nbconvert_exporter": "python",
   "pygments_lexer": "ipython3",
   "version": "3.9.7"
  },
  "orig_nbformat": 4
 },
 "nbformat": 4,
 "nbformat_minor": 2
}
